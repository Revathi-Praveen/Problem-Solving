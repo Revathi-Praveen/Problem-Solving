{
 "cells": [
  {
   "cell_type": "markdown",
   "id": "9eb15ab5",
   "metadata": {},
   "source": [
    "### Assignment 7 - Dataset 2"
   ]
  },
  {
   "cell_type": "markdown",
   "id": "d89c3e2e",
   "metadata": {},
   "source": [
    "Find two datasets each of which has two variables which we’ll call x and y, but they can have any names.\n",
    "\n",
    "You should have a suspicion or intuition that in each dataset, variable y is linearly dependent on variable x.\n",
    "\n",
    "• For each dataset:\n",
    "\n",
    "o Create a scatter plot of the data.\n",
    "\n",
    "o Draw the least-squares regression line through the scatter plot.\n",
    "\n",
    "o Calculate and print the coefficient of determination and the correlation coefficient."
   ]
  },
  {
   "cell_type": "code",
   "execution_count": 1,
   "id": "409d2014",
   "metadata": {},
   "outputs": [],
   "source": [
    "import pandas as pd\n",
    "import numpy as np\n",
    "from scipy import stats\n",
    "import matplotlib.pyplot as plt"
   ]
  },
  {
   "cell_type": "markdown",
   "id": "72799706",
   "metadata": {},
   "source": [
    "###### Super Store dataset is selected from data.world as the second dataset\n",
    "\n",
    "The intuition is that as more products are purchased & sales increases, customers are willing to pay more shipment cost "
   ]
  },
  {
   "cell_type": "code",
   "execution_count": 2,
   "id": "909a100c",
   "metadata": {},
   "outputs": [],
   "source": [
    "superstore=pd.read_excel('GlobalSuperstore.xlsx')"
   ]
  },
  {
   "cell_type": "code",
   "execution_count": 3,
   "id": "f50ded52",
   "metadata": {},
   "outputs": [
    {
     "data": {
      "text/html": [
       "<div>\n",
       "<style scoped>\n",
       "    .dataframe tbody tr th:only-of-type {\n",
       "        vertical-align: middle;\n",
       "    }\n",
       "\n",
       "    .dataframe tbody tr th {\n",
       "        vertical-align: top;\n",
       "    }\n",
       "\n",
       "    .dataframe thead th {\n",
       "        text-align: right;\n",
       "    }\n",
       "</style>\n",
       "<table border=\"1\" class=\"dataframe\">\n",
       "  <thead>\n",
       "    <tr style=\"text-align: right;\">\n",
       "      <th></th>\n",
       "      <th>category</th>\n",
       "      <th>city</th>\n",
       "      <th>country</th>\n",
       "      <th>customer_id</th>\n",
       "      <th>customer_name</th>\n",
       "      <th>discount</th>\n",
       "      <th>market</th>\n",
       "      <th>order_date</th>\n",
       "      <th>order_id</th>\n",
       "      <th>order_priority</th>\n",
       "      <th>...</th>\n",
       "      <th>region</th>\n",
       "      <th>row_id</th>\n",
       "      <th>sales</th>\n",
       "      <th>segment</th>\n",
       "      <th>ship_date</th>\n",
       "      <th>ship_mode</th>\n",
       "      <th>shipping_cost</th>\n",
       "      <th>state</th>\n",
       "      <th>sub_category</th>\n",
       "      <th>year</th>\n",
       "    </tr>\n",
       "  </thead>\n",
       "  <tbody>\n",
       "    <tr>\n",
       "      <th>0</th>\n",
       "      <td>Office Supplies</td>\n",
       "      <td>Los Angeles</td>\n",
       "      <td>United States</td>\n",
       "      <td>AP-109154</td>\n",
       "      <td>Arthur Prichep</td>\n",
       "      <td>0</td>\n",
       "      <td>US</td>\n",
       "      <td>2018-09-29T00:00:00</td>\n",
       "      <td>CA-2011-146969</td>\n",
       "      <td>3) High</td>\n",
       "      <td>...</td>\n",
       "      <td>West</td>\n",
       "      <td>32440</td>\n",
       "      <td>6</td>\n",
       "      <td>Consumer</td>\n",
       "      <td>2018-10-03T00:00:00</td>\n",
       "      <td>Standard Class</td>\n",
       "      <td>1.32</td>\n",
       "      <td>California</td>\n",
       "      <td>Paper</td>\n",
       "      <td>2018.0</td>\n",
       "    </tr>\n",
       "    <tr>\n",
       "      <th>1</th>\n",
       "      <td>Office Supplies</td>\n",
       "      <td>Los Angeles</td>\n",
       "      <td>United States</td>\n",
       "      <td>LH-171554</td>\n",
       "      <td>Logan Haushalter</td>\n",
       "      <td>0</td>\n",
       "      <td>US</td>\n",
       "      <td>2019-06-19T00:00:00</td>\n",
       "      <td>CA-2012-121965</td>\n",
       "      <td>2) Medium</td>\n",
       "      <td>...</td>\n",
       "      <td>West</td>\n",
       "      <td>35746</td>\n",
       "      <td>6</td>\n",
       "      <td>Consumer</td>\n",
       "      <td>2019-06-23T00:00:00</td>\n",
       "      <td>Standard Class</td>\n",
       "      <td>0.52</td>\n",
       "      <td>California</td>\n",
       "      <td>Paper</td>\n",
       "      <td>2019.0</td>\n",
       "    </tr>\n",
       "    <tr>\n",
       "      <th>2</th>\n",
       "      <td>Office Supplies</td>\n",
       "      <td>Los Angeles</td>\n",
       "      <td>United States</td>\n",
       "      <td>CC-122204</td>\n",
       "      <td>Chris Cortes</td>\n",
       "      <td>0</td>\n",
       "      <td>US</td>\n",
       "      <td>2020-03-29T00:00:00</td>\n",
       "      <td>CA-2013-131380</td>\n",
       "      <td>4) Critical</td>\n",
       "      <td>...</td>\n",
       "      <td>West</td>\n",
       "      <td>38455</td>\n",
       "      <td>6</td>\n",
       "      <td>Consumer</td>\n",
       "      <td>2020-04-01T00:00:00</td>\n",
       "      <td>Second Class</td>\n",
       "      <td>1.82</td>\n",
       "      <td>California</td>\n",
       "      <td>Paper</td>\n",
       "      <td>2020.0</td>\n",
       "    </tr>\n",
       "    <tr>\n",
       "      <th>3</th>\n",
       "      <td>Office Supplies</td>\n",
       "      <td>Los Angeles</td>\n",
       "      <td>United States</td>\n",
       "      <td>TT-210704</td>\n",
       "      <td>Ted Trevino</td>\n",
       "      <td>0</td>\n",
       "      <td>US</td>\n",
       "      <td>2020-05-12T00:00:00</td>\n",
       "      <td>CA-2013-162733</td>\n",
       "      <td>2) Medium</td>\n",
       "      <td>...</td>\n",
       "      <td>West</td>\n",
       "      <td>31457</td>\n",
       "      <td>6</td>\n",
       "      <td>Consumer</td>\n",
       "      <td>2020-05-13T00:00:00</td>\n",
       "      <td>First Class</td>\n",
       "      <td>0.41</td>\n",
       "      <td>California</td>\n",
       "      <td>Paper</td>\n",
       "      <td>2020.0</td>\n",
       "    </tr>\n",
       "    <tr>\n",
       "      <th>4</th>\n",
       "      <td>Office Supplies</td>\n",
       "      <td>Los Angeles</td>\n",
       "      <td>United States</td>\n",
       "      <td>CC-123704</td>\n",
       "      <td>Christopher Conant</td>\n",
       "      <td>0</td>\n",
       "      <td>US</td>\n",
       "      <td>2020-07-08T00:00:00</td>\n",
       "      <td>CA-2013-135265</td>\n",
       "      <td>4) Critical</td>\n",
       "      <td>...</td>\n",
       "      <td>West</td>\n",
       "      <td>35281</td>\n",
       "      <td>49</td>\n",
       "      <td>Consumer</td>\n",
       "      <td>2020-07-10T00:00:00</td>\n",
       "      <td>Second Class</td>\n",
       "      <td>10.36</td>\n",
       "      <td>California</td>\n",
       "      <td>Paper</td>\n",
       "      <td>2020.0</td>\n",
       "    </tr>\n",
       "  </tbody>\n",
       "</table>\n",
       "<p>5 rows × 24 columns</p>\n",
       "</div>"
      ],
      "text/plain": [
       "          category         city        country customer_id  \\\n",
       "0  Office Supplies  Los Angeles  United States   AP-109154   \n",
       "1  Office Supplies  Los Angeles  United States   LH-171554   \n",
       "2  Office Supplies  Los Angeles  United States   CC-122204   \n",
       "3  Office Supplies  Los Angeles  United States   TT-210704   \n",
       "4  Office Supplies  Los Angeles  United States   CC-123704   \n",
       "\n",
       "        customer_name discount market           order_date        order_id  \\\n",
       "0      Arthur Prichep        0     US  2018-09-29T00:00:00  CA-2011-146969   \n",
       "1    Logan Haushalter        0     US  2019-06-19T00:00:00  CA-2012-121965   \n",
       "2        Chris Cortes        0     US  2020-03-29T00:00:00  CA-2013-131380   \n",
       "3         Ted Trevino        0     US  2020-05-12T00:00:00  CA-2013-162733   \n",
       "4  Christopher Conant        0     US  2020-07-08T00:00:00  CA-2013-135265   \n",
       "\n",
       "  order_priority  ... region row_id  sales   segment            ship_date  \\\n",
       "0        3) High  ...   West  32440      6  Consumer  2018-10-03T00:00:00   \n",
       "1      2) Medium  ...   West  35746      6  Consumer  2019-06-23T00:00:00   \n",
       "2    4) Critical  ...   West  38455      6  Consumer  2020-04-01T00:00:00   \n",
       "3      2) Medium  ...   West  31457      6  Consumer  2020-05-13T00:00:00   \n",
       "4    4) Critical  ...   West  35281     49  Consumer  2020-07-10T00:00:00   \n",
       "\n",
       "        ship_mode  shipping_cost       state sub_category    year  \n",
       "0  Standard Class           1.32  California        Paper  2018.0  \n",
       "1  Standard Class           0.52  California        Paper  2019.0  \n",
       "2    Second Class           1.82  California        Paper  2020.0  \n",
       "3     First Class           0.41  California        Paper  2020.0  \n",
       "4    Second Class          10.36  California        Paper  2020.0  \n",
       "\n",
       "[5 rows x 24 columns]"
      ]
     },
     "execution_count": 3,
     "metadata": {},
     "output_type": "execute_result"
    }
   ],
   "source": [
    "#Viewing the data\n",
    "superstore.head()"
   ]
  },
  {
   "cell_type": "markdown",
   "id": "0c693951",
   "metadata": {},
   "source": [
    "###### Create a scatter plot of the data."
   ]
  },
  {
   "cell_type": "code",
   "execution_count": 4,
   "id": "c56e9a21",
   "metadata": {},
   "outputs": [
    {
     "data": {
      "text/plain": [
       "Text(0, 0.5, 'Sleep Score')"
      ]
     },
     "execution_count": 4,
     "metadata": {},
     "output_type": "execute_result"
    },
    {
     "data": {
      "image/png": "[encoded data removed]",
      "text/plain": [
       "<Figure size 432x288 with 1 Axes>"
      ]
     },
     "metadata": {
      "needs_background": "light"
     },
     "output_type": "display_data"
    }
   ],
   "source": [
    "plt.scatter(superstore.sales,superstore.shipping_cost,edgecolor =\"black\",s = 30,linewidths = 1)\n",
    "plt.title('Scatter Plot')\n",
    "plt.xlabel('sales')\n",
    "plt.ylabel('Sleep Score')"
   ]
  },
  {
   "cell_type": "code",
   "execution_count": 5,
   "id": "611e8a86",
   "metadata": {},
   "outputs": [],
   "source": [
    "X=superstore['sales'].values\n",
    "Y=superstore['shipping_cost'].values"
   ]
  },
  {
   "cell_type": "code",
   "execution_count": 6,
   "id": "29680738",
   "metadata": {},
   "outputs": [
    {
     "name": "stdout",
     "output_type": "stream",
     "text": [
      "Correlation: 0.77\n"
     ]
    }
   ],
   "source": [
    "# Method 1: Calculating correlation coefficient using formula for it\n",
    "X_mu=sum(X)/len(X)\n",
    "Y_mu=sum(Y)/len(Y)\n",
    "X_diff=0\n",
    "Y_diff=0\n",
    "X_Y_diff=0\n",
    "\n",
    "for i in range(0,superstore.shape[0]):\n",
    "    X_diff+=(X[i]-X_mu)**2\n",
    "    Y_diff+=(Y[i]-Y_mu)**2\n",
    "    X_Y_diff+=(X[i]-X_mu)*(Y[i]-Y_mu)\n",
    "r=X_Y_diff/(((X_diff)**(1/2))*((Y_diff)**(1/2)))\n",
    "print(f'Correlation: {round(r,2)}')"
   ]
  },
  {
   "cell_type": "code",
   "execution_count": 7,
   "id": "ffe933a7",
   "metadata": {},
   "outputs": [
    {
     "name": "stdout",
     "output_type": "stream",
     "text": [
      "Correlation: 0.77\n"
     ]
    }
   ],
   "source": [
    "# Method 2: Calculating correlation coefficient using python function\n",
    "correlation_matrix=np.corrcoef(superstore.sales,superstore.shipping_cost)\n",
    "# correlation_matrix\n",
    "\n",
    "correlation=correlation_matrix[0,1]\n",
    "print(f'Correlation: {round(correlation,2)}')"
   ]
  },
  {
   "cell_type": "code",
   "execution_count": 8,
   "id": "b799abd1",
   "metadata": {},
   "outputs": [
    {
     "name": "stdout",
     "output_type": "stream",
     "text": [
      "Co-efficient of Determination: 0.59\n"
     ]
    }
   ],
   "source": [
    "#Coefficient of determination\n",
    "r_square=correlation**2\n",
    "print(f'Co-efficient of Determination: {round(r_square,2)}')"
   ]
  },
  {
   "cell_type": "markdown",
   "id": "fd7cc1d1",
   "metadata": {},
   "source": [
    "###### Draw the least-squares regression line through the scatter plot"
   ]
  },
  {
   "cell_type": "code",
   "execution_count": 9,
   "id": "540acbbc",
   "metadata": {},
   "outputs": [],
   "source": [
    "def calculate_slope_intercept(x_values, y_values):\n",
    "    \"\"\"\n",
    "    Calculate the slope and intercept of a regression line.\n",
    "    @param x_values the independent x values.\n",
    "    @param y_values the dependent y values.\n",
    "    @return a list of the slope and y-intercept of the line.\n",
    "    \"\"\"\n",
    "    x = np.array(x_values)\n",
    "    y = np.array(y_values)\n",
    "    \n",
    "    n = len(x)\n",
    "    sum_x = np.sum(x)\n",
    "    sum_y = np.sum(y)\n",
    "    sum_xx = np.sum(x*x)\n",
    "    sum_xy = np.sum(x*y)\n",
    "    \n",
    "    numerator = sum_xy - (sum_x*sum_y)/n\n",
    "    denominator = sum_xx - ((sum_x*sum_x)/n)\n",
    "    \n",
    "    m = numerator/denominator\n",
    "    b = (np.mean(y) - m*np.mean(x))\n",
    "    \n",
    "    return m, b  # slope and intercept\n",
    "\n",
    "def show_least_squares_line(title, x_label, y_label, \n",
    "                            x_values, y_values):\n",
    "    \"\"\"\n",
    "    @param title the chart title.\n",
    "    @param x_label the x-axis label.\n",
    "    @param y_label the y-axis label.\n",
    "    @param x_values the independent x values to plot.\n",
    "    @param y_values the dependent y values to plot.\n",
    "    \"\"\"\n",
    "    # First show the scatter plot.\n",
    "    plt.scatter(x_values, y_values)\n",
    "    \n",
    "    # Now show the least squares line.\n",
    "    m, b = calculate_slope_intercept(x_values, y_values)\n",
    "    reg_line = [m*x + b for x in x_values]  # regression line\n",
    "    plt.plot(x_values, reg_line, color='red')\n",
    "\n",
    "    plt.title(f'{title}, m = {m:.2f}, b = {b:.2f}')\n",
    "    plt.xlabel(x_label)\n",
    "    plt.ylabel(y_label)\n",
    "    print(f'Slope: m={round(m,2)}, Intercept: c={round(b,2)}, Equation:  y={round(m,2)}x + {round(b,2)}' )\n",
    "    plt.show()"
   ]
  },
  {
   "cell_type": "code",
   "execution_count": 10,
   "id": "c9364e4e",
   "metadata": {},
   "outputs": [
    {
     "name": "stdout",
     "output_type": "stream",
     "text": [
      "Slope: m=0.09, Intercept: c=4.13, Equation:  y=0.09x + 4.13\n"
     ]
    },
    {
     "data": {
      "image/png": "[encoded data removed]",
      "text/plain": [
       "<Figure size 432x288 with 1 Axes>"
      ]
     },
     "metadata": {
      "needs_background": "light"
     },
     "output_type": "display_data"
    }
   ],
   "source": [
    "calculate_slope_intercept(X,Y)\n",
    "show_least_squares_line('Least square regression line','Sales','Shipment Cost',X,Y)"
   ]
  },
  {
   "cell_type": "markdown",
   "id": "cae6e44a",
   "metadata": {},
   "source": [
    "###### Takeaway\n",
    "\n",
    "1) There's a strong positive correlation between sales and shipment cost (~0.8)\n",
    "\n",
    "2) How strong the fit is determined by coefficient of determination which is ~0.6"
   ]
  }
 ],
 "metadata": {
  "kernelspec": {
   "display_name": "Python 3 (ipykernel)",
   "language": "python",
   "name": "python3"
  },
  "language_info": {
   "codemirror_mode": {
    "name": "ipython",
    "version": 3
   },
   "file_extension": ".py",
   "mimetype": "text/x-python",
   "name": "python",
   "nbconvert_exporter": "python",
   "pygments_lexer": "ipython3",
   "version": "3.9.7"
  }
 },
 "nbformat": 4,
 "nbformat_minor": 5
}
