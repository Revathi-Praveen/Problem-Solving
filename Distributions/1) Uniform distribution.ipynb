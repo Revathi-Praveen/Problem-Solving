{
 "cells": [
  {
   "cell_type": "markdown",
   "id": "8cebb7b4",
   "metadata": {},
   "source": [
    "## Uniform distribution"
   ]
  },
  {
   "cell_type": "markdown",
   "id": "714ac7a1",
   "metadata": {},
   "source": [
    "###### Import all the necessary external packages"
   ]
  },
  {
   "cell_type": "code",
   "execution_count": 102,
   "id": "cbe18294",
   "metadata": {},
   "outputs": [],
   "source": [
    "import random as rnd\n",
    "import numpy as np\n",
    "import seaborn as sns\n",
    "%matplotlib inline\n",
    "from matplotlib.ticker import FormatStrFormatter, StrMethodFormatter"
   ]
  },
  {
   "cell_type": "markdown",
   "id": "eef18ddf",
   "metadata": {},
   "source": [
    "###### Create a list of 1000 random numbers from 0 to 25 (inclusive)"
   ]
  },
  {
   "cell_type": "code",
   "execution_count": 119,
   "id": "92c2d6af",
   "metadata": {},
   "outputs": [],
   "source": [
    "# Creating an initial value of 0 so that the random numbers don't change frequently\n",
    "rnd.seed(0)\n",
    "array_random=[int(rnd.uniform(0,26)) for i in range(0,1000)]"
   ]
  },
  {
   "cell_type": "code",
   "execution_count": 120,
   "id": "7aff487b",
   "metadata": {},
   "outputs": [
    {
     "data": {
      "text/plain": [
       "list"
      ]
     },
     "execution_count": 120,
     "metadata": {},
     "output_type": "execute_result"
    }
   ],
   "source": [
    "type(array_random)"
   ]
  },
  {
   "cell_type": "code",
   "execution_count": 121,
   "id": "62395bf1",
   "metadata": {},
   "outputs": [
    {
     "name": "stdout",
     "output_type": "stream",
     "text": [
      "(0, 25)\n"
     ]
    }
   ],
   "source": [
    "# Check if the numbers in the list ranges from 0 to 25\n",
    "print((min(array_random),max(array_random)))"
   ]
  },
  {
   "cell_type": "markdown",
   "id": "02b80692",
   "metadata": {},
   "source": [
    "###### Finding the frequency of each values of the list of random numbers"
   ]
  },
  {
   "cell_type": "code",
   "execution_count": 122,
   "id": "8435d1da",
   "metadata": {},
   "outputs": [],
   "source": [
    "value,frequency=np.unique(array_random,return_counts=True)"
   ]
  },
  {
   "cell_type": "code",
   "execution_count": 123,
   "id": "d7ca179a",
   "metadata": {},
   "outputs": [
    {
     "name": "stdout",
     "output_type": "stream",
     "text": [
      "(array([ 0,  1,  2,  3,  4,  5,  6,  7,  8,  9, 10, 11, 12, 13, 14, 15, 16,\n",
      "       17, 18, 19, 20, 21, 22, 23, 24, 25]), array([45, 48, 35, 39, 30, 33, 37, 36, 40, 35, 53, 38, 39, 34, 33, 37, 40,\n",
      "       46, 37, 42, 42, 34, 31, 41, 37, 38], dtype=int64))\n"
     ]
    }
   ],
   "source": [
    "#Check of the values of the list and the frequency has been split correctly\n",
    "print((value,frequency))"
   ]
  },
  {
   "cell_type": "code",
   "execution_count": 124,
   "id": "2e911d01",
   "metadata": {},
   "outputs": [
    {
     "name": "stdout",
     "output_type": "stream",
     "text": [
      "30 53\n"
     ]
    }
   ],
   "source": [
    "print(min(frequency),max(frequency))"
   ]
  },
  {
   "cell_type": "markdown",
   "id": "bc17d1a8",
   "metadata": {},
   "source": [
    "###### Plotting the uniform distribution"
   ]
  },
  {
   "cell_type": "code",
   "execution_count": 125,
   "id": "aadd7171",
   "metadata": {},
   "outputs": [
    {
     "data": {
      "image/png": "[encoded data removed]",
      "text/plain": [
       "<Figure size 432x288 with 1 Axes>"
      ]
     },
     "metadata": {},
     "output_type": "display_data"
    }
   ],
   "source": [
    "sns.set_style('whitegrid')\n",
    "sns.despine()\n",
    "sns.set_theme(font_scale=1)\n",
    "sns.set(rc={'axes.facecolor':'white', 'figure.facecolor':'white'})\n",
    "a=sns.lineplot(x=value,y=frequency,color='brown')\n",
    "a.set_title('Uniform distribution with sample size of 1000',fontsize='15',color='brown')\n",
    "a.set_ylim((0,max(frequency)+min(frequency)))\n",
    "a.set_xlim((0,max(value)))\n",
    "a.set_xlabel('Random Values',fontsize='12',color='brown')\n",
    "a.set_ylabel('Frequency',fontsize='12',color='brown')\n",
    "a.grid(b=True, which='major', color='black', linewidth=0.075)"
   ]
  },
  {
   "cell_type": "code",
   "execution_count": 126,
   "id": "60868089",
   "metadata": {},
   "outputs": [
    {
     "data": {
      "text/plain": [
       "\"Given there are only 1000 samples, the histogram plot doesn't look like an ideal histogram,\\nwe need to increase the sample size further to validate this hypothesis\\n\""
      ]
     },
     "execution_count": 126,
     "metadata": {},
     "output_type": "execute_result"
    }
   ],
   "source": [
    "# Observation\n",
    "'''Given there are only 1000 samples, the histogram plot doesn't look like an ideal histogram,\n",
    "we need to increase the sample size further to validate this hypothesis\n",
    "'''"
   ]
  },
  {
   "cell_type": "markdown",
   "id": "da8336e7",
   "metadata": {},
   "source": [
    "###### Increasing the number of random vales to 10 million in the list to check if we get an ideal uniform distribution"
   ]
  },
  {
   "cell_type": "code",
   "execution_count": 142,
   "id": "dbd6f0cf",
   "metadata": {},
   "outputs": [],
   "source": [
    "rnd.seed(0)\n",
    "array_random_large=[int(rnd.uniform(0,26)) for i in range(0,10_000_000)]"
   ]
  },
  {
   "cell_type": "code",
   "execution_count": 143,
   "id": "670c0199",
   "metadata": {},
   "outputs": [],
   "source": [
    "value_large,frequency_large=np.unique(array_random_large,return_counts=True)"
   ]
  },
  {
   "cell_type": "code",
   "execution_count": 144,
   "id": "7120bfb7",
   "metadata": {},
   "outputs": [
    {
     "name": "stdout",
     "output_type": "stream",
     "text": [
      "(383811, 385547)\n"
     ]
    }
   ],
   "source": [
    "'''the frequency of numbers getting close to each other proves that the in uniform distribution, \n",
    "each number has equal probability of occuring'''\n",
    "print((min(frequency_large),max(frequency_large)))"
   ]
  },
  {
   "cell_type": "code",
   "execution_count": 130,
   "id": "7195271f",
   "metadata": {},
   "outputs": [
    {
     "data": {
      "image/png": "[encoded data removed]",
      "text/plain": [
       "<Figure size 432x288 with 1 Axes>"
      ]
     },
     "metadata": {},
     "output_type": "display_data"
    }
   ],
   "source": [
    "sns.set_style('whitegrid')\n",
    "a=sns.lineplot(x=value_large,y=frequency_large,color='orange')\n",
    "sns.despine()\n",
    "a.set_xlim((0,max(value_large)))\n",
    "a.set_ylim((0,max(frequency_large)+min(frequency_large)))\n",
    "a.set_title('Uniform distribution with sample size of 10 Million',fontsize='15',color='brown')\n",
    "a.set_xlabel('Random Values',fontsize='12',color='brown')\n",
    "a.set_ylabel('Frequency',fontsize='12',color='brown')\n",
    "a.yaxis.set_major_formatter(StrMethodFormatter('{x:,}'))"
   ]
  },
  {
   "cell_type": "code",
   "execution_count": 131,
   "id": "d5256ac3",
   "metadata": {},
   "outputs": [
    {
     "data": {
      "text/plain": [
       "'\\nNow, on increasing the sample size to 10 million, the distribution looks like an ideal uniform distribution \\nwith each value having an equal probability to occur\\n'"
      ]
     },
     "execution_count": 131,
     "metadata": {},
     "output_type": "execute_result"
    }
   ],
   "source": [
    "# Observation\n",
    "'''\n",
    "Now, on increasing the sample size to 10 million, the distribution looks like an ideal uniform distribution \n",
    "with each value having an equal probability to occur\n",
    "'''"
   ]
  },
  {
   "cell_type": "markdown",
   "id": "11403cfd",
   "metadata": {},
   "source": [
    "###### Reducing the number of random values to validate that taking less data points might not result in an idea uniform distribution"
   ]
  },
  {
   "cell_type": "code",
   "execution_count": 149,
   "id": "fddb0c1e",
   "metadata": {},
   "outputs": [],
   "source": [
    "#note that as the initial value seed is not set here, the random values might change during every iteration\n",
    "array_random_small=[int(rnd.uniform(0,25)) for i in range(0,100)]"
   ]
  },
  {
   "cell_type": "code",
   "execution_count": 150,
   "id": "263b7cda",
   "metadata": {},
   "outputs": [],
   "source": [
    "value_small,frequency_small=np.unique(array_random_small,return_counts=True)"
   ]
  },
  {
   "cell_type": "code",
   "execution_count": 151,
   "id": "44dbbb56",
   "metadata": {},
   "outputs": [
    {
     "name": "stdout",
     "output_type": "stream",
     "text": [
      "(2, 9)\n"
     ]
    }
   ],
   "source": [
    "print((min(frequency_small),max(frequency_small)))"
   ]
  },
  {
   "cell_type": "code",
   "execution_count": 109,
   "id": "f157685a",
   "metadata": {},
   "outputs": [
    {
     "data": {
      "text/plain": [
       "Text(0, 0.5, 'Frequency')"
      ]
     },
     "execution_count": 109,
     "metadata": {},
     "output_type": "execute_result"
    },
    {
     "data": {
      "image/png": "[encoded data removed]",
      "text/plain": [
       "<Figure size 432x288 with 1 Axes>"
      ]
     },
     "metadata": {},
     "output_type": "display_data"
    }
   ],
   "source": [
    "sns.set_style('whitegrid')\n",
    "line_small=sns.lineplot(x=value_small,y=frequency_small,color='orange')\n",
    "sns.despine()\n",
    "line_small.set_xlim((0,max(value_small)))\n",
    "line_small.set_ylim((0,max(frequency_small)+min(frequency_small)))\n",
    "line_small.set_title('Uniform distribution with sample size of 100',fontsize='15',color='brown')\n",
    "line_small.set_xlabel('Random Values',fontsize='12',color='brown')\n",
    "line_small.set_ylabel('Frequency',fontsize='12',color='brown')"
   ]
  },
  {
   "cell_type": "code",
   "execution_count": null,
   "id": "752e547a",
   "metadata": {},
   "outputs": [],
   "source": [
    "# Observation\n",
    "''' The distribution doesn't look like a uniform distribution with 100 samples'''"
   ]
  },
  {
   "cell_type": "markdown",
   "id": "d748feed",
   "metadata": {},
   "source": [
    "###### Increasing the number of random vales to 10 thousand in the list to check if we get an ideal uniform distribution"
   ]
  },
  {
   "cell_type": "code",
   "execution_count": 111,
   "id": "7d38ce55",
   "metadata": {},
   "outputs": [],
   "source": [
    "array_random_large=[int(rnd.uniform(0,26)) for i in range(0,10_000)]"
   ]
  },
  {
   "cell_type": "code",
   "execution_count": 112,
   "id": "be76c5dd",
   "metadata": {},
   "outputs": [],
   "source": [
    "value_large,frequency_large=np.unique(array_random_large,return_counts=True)"
   ]
  },
  {
   "cell_type": "code",
   "execution_count": 113,
   "id": "68caf57b",
   "metadata": {},
   "outputs": [
    {
     "name": "stdout",
     "output_type": "stream",
     "text": [
      "(341, 421)\n"
     ]
    }
   ],
   "source": [
    "'''the frequency of numbers getting close to each other proves that the in uniform distribution, \n",
    "each number has equal probability of occuring'''\n",
    "print((min(frequency_large),max(frequency_large)))"
   ]
  },
  {
   "cell_type": "code",
   "execution_count": 117,
   "id": "42a0a308",
   "metadata": {},
   "outputs": [
    {
     "data": {
      "text/plain": [
       "Text(0, 0.5, 'Frequency')"
      ]
     },
     "execution_count": 117,
     "metadata": {},
     "output_type": "execute_result"
    },
    {
     "data": {
      "image/png": "[encoded data removed]",
      "text/plain": [
       "<Figure size 432x288 with 1 Axes>"
      ]
     },
     "metadata": {},
     "output_type": "display_data"
    }
   ],
   "source": [
    "sns.set_style('whitegrid')\n",
    "a=sns.lineplot(x=value_large,y=frequency_large,color='orange')\n",
    "sns.despine()\n",
    "a.set_xlim((0,max(value_large)))\n",
    "a.set_ylim((0,max(frequency_large)+min(frequency_large)))\n",
    "a.set_title('Uniform distribution with sample size of 10 Thousand',fontsize='15',color='brown')\n",
    "a.set_xlabel('Random Values',fontsize='12',color='brown')\n",
    "a.set_ylabel('Frequency',fontsize='12',color='brown')"
   ]
  },
  {
   "cell_type": "code",
   "execution_count": 118,
   "id": "a05d1f35",
   "metadata": {},
   "outputs": [
    {
     "data": {
      "text/plain": [
       "\" Though it doesn't look like an ideal uniform distribution, plotting a frequency plot with \\na sample size of 10,000 makes the graph look close to uniform distribution\\n\""
      ]
     },
     "execution_count": 118,
     "metadata": {},
     "output_type": "execute_result"
    }
   ],
   "source": [
    "# Observation\n",
    "''' Though it doesn't look like an ideal uniform distribution, plotting a frequency plot with \n",
    "a sample size of 10,000 makes the graph look close to uniform distribution\n",
    "'''"
   ]
  },
  {
   "cell_type": "markdown",
   "id": "7030ea52",
   "metadata": {},
   "source": [
    "###### Takeaway"
   ]
  },
  {
   "cell_type": "code",
   "execution_count": null,
   "id": "b2a17a81",
   "metadata": {},
   "outputs": [],
   "source": [
    "'''\n",
    "So, all the experimentations show that as we increase the sample size, the distribution becomes \n",
    "an ideal uniform distribution\n",
    "'''"
   ]
  },
  {
   "cell_type": "code",
   "execution_count": null,
   "id": "9d99237e",
   "metadata": {},
   "outputs": [],
   "source": [
    "# timing functions\n",
    "import timeit\n",
    "import statistics\n",
    "timeit.timeit('range(0,100)', number=10000)"
   ]
  }
 ],
 "metadata": {
  "kernelspec": {
   "display_name": "Python 3 (ipykernel)",
   "language": "python",
   "name": "python3"
  },
  "language_info": {
   "codemirror_mode": {
    "name": "ipython",
    "version": 3
   },
   "file_extension": ".py",
   "mimetype": "text/x-python",
   "name": "python",
   "nbconvert_exporter": "python",
   "pygments_lexer": "ipython3",
   "version": "3.9.7"
  }
 },
 "nbformat": 4,
 "nbformat_minor": 5
}
