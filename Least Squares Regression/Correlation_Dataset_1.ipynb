{
 "cells": [
  {
   "cell_type": "markdown",
   "id": "e5da2205",
   "metadata": {},
   "source": [
    "### Assignment 7 - Dataset 1"
   ]
  },
  {
   "cell_type": "markdown",
   "id": "07bdfde9",
   "metadata": {},
   "source": [
    "•\tFind two datasets each of which has two variables which we’ll call x and y, but they can have any names.\n",
    "\n",
    "You should have a suspicion or intuition that in each dataset, variable y is linearly dependent on variable x.\n",
    "\n",
    "\n",
    "•\tFor each dataset:\n",
    "\n",
    "o\tCreate a scatter plot of the data.\n",
    "\n",
    "o\tDraw the least-squares regression line through the scatter plot.\n",
    "\n",
    "o\tCalculate and print the coefficient of determination and the correlation coefficient."
   ]
  },
  {
   "cell_type": "code",
   "execution_count": 1,
   "id": "ee6cba7e",
   "metadata": {},
   "outputs": [],
   "source": [
    "import pandas as pd\n",
    "import numpy as np\n",
    "import matplotlib.pyplot as plt\n",
    "import glob"
   ]
  },
  {
   "cell_type": "markdown",
   "id": "4fc1ba93",
   "metadata": {},
   "source": [
    "###### Sleep_score data from Kaggle is chosen as the first dataset\n",
    "\n",
    "The intuition is that during sleep, the heart rate below resting is high\n",
    "\n",
    "You can find scientific proof here:\n",
    "https://my.clevelandclinic.org/health/diseases/17841-bradycardia"
   ]
  },
  {
   "cell_type": "code",
   "execution_count": 2,
   "id": "98cea7dd",
   "metadata": {},
   "outputs": [],
   "source": [
    "sleep=pd.read_excel('Sleep.xlsx')"
   ]
  },
  {
   "cell_type": "code",
   "execution_count": 3,
   "id": "6c567083",
   "metadata": {},
   "outputs": [
    {
     "data": {
      "text/html": [
       "<div>\n",
       "<style scoped>\n",
       "    .dataframe tbody tr th:only-of-type {\n",
       "        vertical-align: middle;\n",
       "    }\n",
       "\n",
       "    .dataframe tbody tr th {\n",
       "        vertical-align: top;\n",
       "    }\n",
       "\n",
       "    .dataframe thead th {\n",
       "        text-align: right;\n",
       "    }\n",
       "</style>\n",
       "<table border=\"1\" class=\"dataframe\">\n",
       "  <thead>\n",
       "    <tr style=\"text-align: right;\">\n",
       "      <th></th>\n",
       "      <th>Day</th>\n",
       "      <th>DATE</th>\n",
       "      <th>SLEEP_SCORE</th>\n",
       "      <th>HOURS_OF_SLEEP</th>\n",
       "      <th>min</th>\n",
       "      <th>Minutes_of_sleep</th>\n",
       "      <th>REM_SLEEP</th>\n",
       "      <th>DEEP_SLEEP</th>\n",
       "      <th>HEART_RATE_BELOW_RESTING</th>\n",
       "      <th>SLEEP_TIME</th>\n",
       "    </tr>\n",
       "  </thead>\n",
       "  <tbody>\n",
       "    <tr>\n",
       "      <th>0</th>\n",
       "      <td>Wednesday</td>\n",
       "      <td>2021-12-01</td>\n",
       "      <td>91</td>\n",
       "      <td>7</td>\n",
       "      <td>33</td>\n",
       "      <td>453</td>\n",
       "      <td>0.23</td>\n",
       "      <td>0.19</td>\n",
       "      <td>0.98</td>\n",
       "      <td>10:56pm - 7:20am</td>\n",
       "    </tr>\n",
       "    <tr>\n",
       "      <th>1</th>\n",
       "      <td>Thursday</td>\n",
       "      <td>2021-12-02</td>\n",
       "      <td>81</td>\n",
       "      <td>7</td>\n",
       "      <td>17</td>\n",
       "      <td>437</td>\n",
       "      <td>0.16</td>\n",
       "      <td>0.13</td>\n",
       "      <td>0.94</td>\n",
       "      <td>10:45pm - 6:58am</td>\n",
       "    </tr>\n",
       "    <tr>\n",
       "      <th>2</th>\n",
       "      <td>Friday</td>\n",
       "      <td>2021-12-03</td>\n",
       "      <td>80</td>\n",
       "      <td>7</td>\n",
       "      <td>17</td>\n",
       "      <td>437</td>\n",
       "      <td>0.15</td>\n",
       "      <td>0.17</td>\n",
       "      <td>0.78</td>\n",
       "      <td>10:51pm - 7:02am</td>\n",
       "    </tr>\n",
       "    <tr>\n",
       "      <th>3</th>\n",
       "      <td>Saturday</td>\n",
       "      <td>2021-12-04</td>\n",
       "      <td>85</td>\n",
       "      <td>8</td>\n",
       "      <td>23</td>\n",
       "      <td>503</td>\n",
       "      <td>0.20</td>\n",
       "      <td>0.15</td>\n",
       "      <td>0.58</td>\n",
       "      <td>9:53pm - 7:17am</td>\n",
       "    </tr>\n",
       "    <tr>\n",
       "      <th>4</th>\n",
       "      <td>Sunday</td>\n",
       "      <td>2021-12-05</td>\n",
       "      <td>82</td>\n",
       "      <td>7</td>\n",
       "      <td>19</td>\n",
       "      <td>439</td>\n",
       "      <td>0.20</td>\n",
       "      <td>0.12</td>\n",
       "      <td>0.79</td>\n",
       "      <td>11:54pm - 8:16am</td>\n",
       "    </tr>\n",
       "  </tbody>\n",
       "</table>\n",
       "</div>"
      ],
      "text/plain": [
       "         Day       DATE  SLEEP_SCORE  HOURS_OF_SLEEP  min  Minutes_of_sleep  \\\n",
       "0  Wednesday 2021-12-01           91               7   33               453   \n",
       "1   Thursday 2021-12-02           81               7   17               437   \n",
       "2     Friday 2021-12-03           80               7   17               437   \n",
       "3   Saturday 2021-12-04           85               8   23               503   \n",
       "4     Sunday 2021-12-05           82               7   19               439   \n",
       "\n",
       "   REM_SLEEP  DEEP_SLEEP  HEART_RATE_BELOW_RESTING        SLEEP_TIME  \n",
       "0       0.23        0.19                      0.98  10:56pm - 7:20am  \n",
       "1       0.16        0.13                      0.94  10:45pm - 6:58am  \n",
       "2       0.15        0.17                      0.78  10:51pm - 7:02am  \n",
       "3       0.20        0.15                      0.58   9:53pm - 7:17am  \n",
       "4       0.20        0.12                      0.79  11:54pm - 8:16am  "
      ]
     },
     "execution_count": 3,
     "metadata": {},
     "output_type": "execute_result"
    }
   ],
   "source": [
    "#Viewing the data\n",
    "sleep.head()"
   ]
  },
  {
   "cell_type": "markdown",
   "id": "fcadc919",
   "metadata": {},
   "source": [
    "###### Create a scatter plot of the data."
   ]
  },
  {
   "cell_type": "code",
   "execution_count": 4,
   "id": "2e28270d",
   "metadata": {},
   "outputs": [
    {
     "data": {
      "text/plain": [
       "Text(0, 0.5, 'Sleep Score')"
      ]
     },
     "execution_count": 4,
     "metadata": {},
     "output_type": "execute_result"
    },
    {
     "data": {
      "image/png": "[encoded data removed]",
      "text/plain": [
       "<Figure size 432x288 with 1 Axes>"
      ]
     },
     "metadata": {
      "needs_background": "light"
     },
     "output_type": "display_data"
    }
   ],
   "source": [
    "plt.scatter(sleep.HEART_RATE_BELOW_RESTING,sleep.SLEEP_SCORE,edgecolor =\"black\",s = 30,linewidths = 1)\n",
    "plt.title('Scatter Plot')\n",
    "plt.xlabel('Heart Rate below Resting')\n",
    "plt.ylabel('Sleep Score')"
   ]
  },
  {
   "cell_type": "markdown",
   "id": "3c0c5463",
   "metadata": {},
   "source": [
    "##### Calculate and print the coefficient of determination and the correlation coefficient."
   ]
  },
  {
   "cell_type": "code",
   "execution_count": 5,
   "id": "98039f78",
   "metadata": {},
   "outputs": [],
   "source": [
    "X = sleep['HEART_RATE_BELOW_RESTING'].values\n",
    "Y = sleep['SLEEP_SCORE'].values"
   ]
  },
  {
   "cell_type": "code",
   "execution_count": 6,
   "id": "70d7867d",
   "metadata": {},
   "outputs": [
    {
     "name": "stdout",
     "output_type": "stream",
     "text": [
      "Correlation: 0.67\n"
     ]
    }
   ],
   "source": [
    "# Method 1: Calculating correlation coefficient using formula for it\n",
    "X_mu=sum(X)/len(X)\n",
    "Y_mu=sum(Y)/len(Y)\n",
    "X_diff=0\n",
    "Y_diff=0\n",
    "X_Y_diff=0\n",
    "\n",
    "for i in range(0,sleep.shape[0]):\n",
    "    X_diff+=(X[i]-X_mu)**2\n",
    "    Y_diff+=(Y[i]-Y_mu)**2\n",
    "    X_Y_diff+=(X[i]-X_mu)*(Y[i]-Y_mu)\n",
    "r=X_Y_diff/(((X_diff)**(1/2))*((Y_diff)**(1/2)))\n",
    "print(f'Correlation: {round(r,2)}')"
   ]
  },
  {
   "cell_type": "code",
   "execution_count": 7,
   "id": "c028dec7",
   "metadata": {},
   "outputs": [
    {
     "name": "stdout",
     "output_type": "stream",
     "text": [
      "Correlation: 0.67\n"
     ]
    }
   ],
   "source": [
    "# Method 1: Calculating correlation coefficient using python function\n",
    "correlation_matrix=np.corrcoef(sleep.SLEEP_SCORE,sleep.HEART_RATE_BELOW_RESTING)\n",
    "# correlation_matrix\n",
    "\n",
    "correlation=correlation_matrix[0,1]\n",
    "print(f'Correlation: {round(correlation,2)}')"
   ]
  },
  {
   "cell_type": "code",
   "execution_count": 8,
   "id": "24a42fc8",
   "metadata": {},
   "outputs": [
    {
     "name": "stdout",
     "output_type": "stream",
     "text": [
      "Co-efficient of Determination: 0.45\n"
     ]
    }
   ],
   "source": [
    "#Coefficient of determination\n",
    "r_square=correlation**2\n",
    "print(f'Co-efficient of Determination: {round(r_square,2)}')"
   ]
  },
  {
   "cell_type": "markdown",
   "id": "bfd59216",
   "metadata": {},
   "source": [
    "###### Draw the least-squares regression line through the scatter plot."
   ]
  },
  {
   "cell_type": "code",
   "execution_count": 9,
   "id": "362142d2",
   "metadata": {},
   "outputs": [
    {
     "name": "stdout",
     "output_type": "stream",
     "text": [
      "Coefficients\n",
      "m=14.45, c=73.08\n"
     ]
    },
    {
     "data": {
      "image/png": "[encoded data removed]",
      "text/plain": [
       "<Figure size 432x288 with 1 Axes>"
      ]
     },
     "metadata": {
      "needs_background": "light"
     },
     "output_type": "display_data"
    }
   ],
   "source": [
    "#Plotting least square regression line\n",
    "\n",
    "mean_x = np.mean(X)\n",
    "mean_y = np.mean(Y)\n",
    " \n",
    "n = len(X)\n",
    "\n",
    "# Using the formula to calculate 'm' and 'c'\n",
    "numer = 0\n",
    "denom = 0\n",
    "for i in range(n):\n",
    "    numer += (X[i] - mean_x) * (Y[i] - mean_y)\n",
    "    denom += (X[i] - mean_x) ** 2\n",
    "    m = numer / denom\n",
    "    c = mean_y - (m * mean_x)\n",
    "\n",
    "# Printing coefficients\n",
    "print(\"Coefficients\")\n",
    "print(f'm={round(m,2)}, c={round(c,2)}')\n",
    "\n",
    "# Plotting Values and Regression Line\n",
    " \n",
    "max_x = np.max(X)\n",
    "min_x = np.min(X)\n",
    " \n",
    "# Calculating line values x and y\n",
    "x = np.linspace(min_x, max_x, 1000)\n",
    "y = c + m * x\n",
    " \n",
    "# Ploting Line\n",
    "plt.plot(x, y, color='#58b970', label='Regression Line')\n",
    "\n",
    "# Ploting Scatter Points\n",
    "plt.scatter(X, Y, c='#ef5423', label='Scatter Plot')\n",
    " \n",
    "plt.xlabel('Heart rate below - Resting')\n",
    "plt.ylabel('Sleep Score')\n",
    "plt.legend()\n",
    "plt.title(f'Least square regression line y={round(m,2)}x + {round(c,2)}')\n",
    "plt.show()"
   ]
  },
  {
   "cell_type": "markdown",
   "id": "0b30d3d0",
   "metadata": {},
   "source": [
    "###### Takeaway\n",
    "\n",
    "1) There's a strong correlation between sleep score and heart rate below resting (~0.7)\n",
    "\n",
    "2) However, coefficient of determination that indicates how best is the fit is lesser (0.45)\n",
    "\n",
    "3) Though the intuition is that both the variables are strongly related, the co-efficient of determination doesn't seem to be very strong "
   ]
  }
 ],
 "metadata": {
  "kernelspec": {
   "display_name": "Python 3 (ipykernel)",
   "language": "python",
   "name": "python3"
  },
  "language_info": {
   "codemirror_mode": {
    "name": "ipython",
    "version": 3
   },
   "file_extension": ".py",
   "mimetype": "text/x-python",
   "name": "python",
   "nbconvert_exporter": "python",
   "pygments_lexer": "ipython3",
   "version": "3.9.7"
  }
 },
 "nbformat": 4,
 "nbformat_minor": 5
}
