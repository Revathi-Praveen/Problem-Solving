{
 "cells": [
  {
   "cell_type": "markdown",
   "id": "cbe01007",
   "metadata": {},
   "source": [
    "## Descriptive Data Analysis"
   ]
  },
  {
   "cell_type": "markdown",
   "id": "8a67a1a4",
   "metadata": {},
   "source": [
    "### Libraries import"
   ]
  },
  {
   "cell_type": "code",
   "execution_count": 1,
   "id": "76e8db1b",
   "metadata": {},
   "outputs": [],
   "source": [
    "import numpy as np\n",
    "import pandas as pd\n",
    "import statistics as stat\n",
    "import math\n",
    "import seaborn as sns\n",
    "from matplotlib.pylab import plt\n",
    "import scipy"
   ]
  },
  {
   "cell_type": "markdown",
   "id": "2a2cb418",
   "metadata": {},
   "source": [
    "### Data Importing & wrangling"
   ]
  },
  {
   "cell_type": "code",
   "execution_count": 3,
   "id": "92ce0134",
   "metadata": {},
   "outputs": [
    {
     "data": {
      "text/plain": [
       "\" The dataset contains fatal police shootings since 2015 till date and supporting factors \\npertaining to criminals' behavior\\n\\nI found this interesting as I am generally interested in criminal thriller genre and\\nwanted to get my hands dirty on this data\\n\""
      ]
     },
     "execution_count": 3,
     "metadata": {},
     "output_type": "execute_result"
    }
   ],
   "source": [
    "#Reason for choosing this dataset:\n",
    "\n",
    "''' The dataset contains fatal police shootings since 2015 till date and supporting factors \n",
    "pertaining to criminals' behavior\n",
    "\n",
    "I found this interesting as I am generally interested in criminal thriller genre and\n",
    "wanted to get my hands dirty on this data\n",
    "'''"
   ]
  },
  {
   "cell_type": "code",
   "execution_count": 2,
   "id": "7bf389d8",
   "metadata": {},
   "outputs": [],
   "source": [
    "shootings=pd.read_csv(r\"fatal-police-shootings-data.csv\")\n",
    "pd.set_option('precision',3)"
   ]
  },
  {
   "cell_type": "code",
   "execution_count": 9,
   "id": "eabb1164",
   "metadata": {},
   "outputs": [
    {
     "data": {
      "text/plain": [
       "name               object\n",
       "date               object\n",
       "manner_of_death    object\n",
       "armed              object\n",
       "gender             object\n",
       "race               object\n",
       "city               object\n",
       "state              object\n",
       "threat_level       object\n",
       "flee               object\n",
       "dtype: object"
      ]
     },
     "execution_count": 9,
     "metadata": {},
     "output_type": "execute_result"
    }
   ],
   "source": [
    "shootings.dtypes[shootings.dtypes==object]"
   ]
  },
  {
   "cell_type": "code",
   "execution_count": 10,
   "id": "29fd64bd",
   "metadata": {},
   "outputs": [
    {
     "data": {
      "text/plain": [
       "id                         6953\n",
       "name                       6626\n",
       "date                       2380\n",
       "manner_of_death               2\n",
       "armed                        98\n",
       "age                          80\n",
       "gender                        2\n",
       "race                          6\n",
       "city                       2932\n",
       "state                        51\n",
       "signs_of_mental_illness       2\n",
       "threat_level                  3\n",
       "flee                          4\n",
       "body_camera                   2\n",
       "longitude                  5655\n",
       "latitude                   5032\n",
       "is_geocoding_exact            2\n",
       "dtype: int64"
      ]
     },
     "execution_count": 10,
     "metadata": {},
     "output_type": "execute_result"
    }
   ],
   "source": [
    "shootings.nunique()"
   ]
  },
  {
   "cell_type": "code",
   "execution_count": 5,
   "id": "87d68036",
   "metadata": {},
   "outputs": [
    {
     "data": {
      "text/html": [
       "<div>\n",
       "<style scoped>\n",
       "    .dataframe tbody tr th:only-of-type {\n",
       "        vertical-align: middle;\n",
       "    }\n",
       "\n",
       "    .dataframe tbody tr th {\n",
       "        vertical-align: top;\n",
       "    }\n",
       "\n",
       "    .dataframe thead th {\n",
       "        text-align: right;\n",
       "    }\n",
       "</style>\n",
       "<table border=\"1\" class=\"dataframe\">\n",
       "  <thead>\n",
       "    <tr style=\"text-align: right;\">\n",
       "      <th></th>\n",
       "      <th>criminal_id</th>\n",
       "      <th>name</th>\n",
       "      <th>date</th>\n",
       "      <th>manner_of_death</th>\n",
       "      <th>armed</th>\n",
       "      <th>age</th>\n",
       "      <th>gender</th>\n",
       "      <th>race</th>\n",
       "      <th>city</th>\n",
       "      <th>state</th>\n",
       "      <th>signs_of_mental_illness</th>\n",
       "      <th>threat_level</th>\n",
       "      <th>flee</th>\n",
       "      <th>body_camera</th>\n",
       "      <th>longitude</th>\n",
       "      <th>latitude</th>\n",
       "      <th>is_geocoding_exact</th>\n",
       "    </tr>\n",
       "  </thead>\n",
       "  <tbody>\n",
       "    <tr>\n",
       "      <th>0</th>\n",
       "      <td>3</td>\n",
       "      <td>Tim Elliot</td>\n",
       "      <td>2015-01-02</td>\n",
       "      <td>shot</td>\n",
       "      <td>gun</td>\n",
       "      <td>53.0</td>\n",
       "      <td>M</td>\n",
       "      <td>A</td>\n",
       "      <td>Shelton</td>\n",
       "      <td>WA</td>\n",
       "      <td>True</td>\n",
       "      <td>attack</td>\n",
       "      <td>Not fleeing</td>\n",
       "      <td>False</td>\n",
       "      <td>-123.122</td>\n",
       "      <td>47.247</td>\n",
       "      <td>True</td>\n",
       "    </tr>\n",
       "    <tr>\n",
       "      <th>1</th>\n",
       "      <td>4</td>\n",
       "      <td>Lewis Lee Lembke</td>\n",
       "      <td>2015-01-02</td>\n",
       "      <td>shot</td>\n",
       "      <td>gun</td>\n",
       "      <td>47.0</td>\n",
       "      <td>M</td>\n",
       "      <td>W</td>\n",
       "      <td>Aloha</td>\n",
       "      <td>OR</td>\n",
       "      <td>False</td>\n",
       "      <td>attack</td>\n",
       "      <td>Not fleeing</td>\n",
       "      <td>False</td>\n",
       "      <td>-122.892</td>\n",
       "      <td>45.487</td>\n",
       "      <td>True</td>\n",
       "    </tr>\n",
       "    <tr>\n",
       "      <th>2</th>\n",
       "      <td>5</td>\n",
       "      <td>John Paul Quintero</td>\n",
       "      <td>2015-01-03</td>\n",
       "      <td>shot and Tasered</td>\n",
       "      <td>unarmed</td>\n",
       "      <td>23.0</td>\n",
       "      <td>M</td>\n",
       "      <td>H</td>\n",
       "      <td>Wichita</td>\n",
       "      <td>KS</td>\n",
       "      <td>False</td>\n",
       "      <td>other</td>\n",
       "      <td>Not fleeing</td>\n",
       "      <td>False</td>\n",
       "      <td>-97.281</td>\n",
       "      <td>37.695</td>\n",
       "      <td>True</td>\n",
       "    </tr>\n",
       "    <tr>\n",
       "      <th>3</th>\n",
       "      <td>8</td>\n",
       "      <td>Matthew Hoffman</td>\n",
       "      <td>2015-01-04</td>\n",
       "      <td>shot</td>\n",
       "      <td>toy weapon</td>\n",
       "      <td>32.0</td>\n",
       "      <td>M</td>\n",
       "      <td>W</td>\n",
       "      <td>San Francisco</td>\n",
       "      <td>CA</td>\n",
       "      <td>True</td>\n",
       "      <td>attack</td>\n",
       "      <td>Not fleeing</td>\n",
       "      <td>False</td>\n",
       "      <td>-122.422</td>\n",
       "      <td>37.763</td>\n",
       "      <td>True</td>\n",
       "    </tr>\n",
       "    <tr>\n",
       "      <th>4</th>\n",
       "      <td>9</td>\n",
       "      <td>Michael Rodriguez</td>\n",
       "      <td>2015-01-04</td>\n",
       "      <td>shot</td>\n",
       "      <td>nail gun</td>\n",
       "      <td>39.0</td>\n",
       "      <td>M</td>\n",
       "      <td>H</td>\n",
       "      <td>Evans</td>\n",
       "      <td>CO</td>\n",
       "      <td>False</td>\n",
       "      <td>attack</td>\n",
       "      <td>Not fleeing</td>\n",
       "      <td>False</td>\n",
       "      <td>-104.692</td>\n",
       "      <td>40.384</td>\n",
       "      <td>True</td>\n",
       "    </tr>\n",
       "  </tbody>\n",
       "</table>\n",
       "</div>"
      ],
      "text/plain": [
       "  criminal_id                name        date   manner_of_death       armed  \\\n",
       "0           3          Tim Elliot  2015-01-02              shot         gun   \n",
       "1           4    Lewis Lee Lembke  2015-01-02              shot         gun   \n",
       "2           5  John Paul Quintero  2015-01-03  shot and Tasered     unarmed   \n",
       "3           8     Matthew Hoffman  2015-01-04              shot  toy weapon   \n",
       "4           9   Michael Rodriguez  2015-01-04              shot    nail gun   \n",
       "\n",
       "    age gender race           city state  signs_of_mental_illness  \\\n",
       "0  53.0      M    A        Shelton    WA                     True   \n",
       "1  47.0      M    W          Aloha    OR                    False   \n",
       "2  23.0      M    H        Wichita    KS                    False   \n",
       "3  32.0      M    W  San Francisco    CA                     True   \n",
       "4  39.0      M    H          Evans    CO                    False   \n",
       "\n",
       "  threat_level         flee  body_camera  longitude  latitude  \\\n",
       "0       attack  Not fleeing        False   -123.122    47.247   \n",
       "1       attack  Not fleeing        False   -122.892    45.487   \n",
       "2        other  Not fleeing        False    -97.281    37.695   \n",
       "3       attack  Not fleeing        False   -122.422    37.763   \n",
       "4       attack  Not fleeing        False   -104.692    40.384   \n",
       "\n",
       "   is_geocoding_exact  \n",
       "0                True  \n",
       "1                True  \n",
       "2                True  \n",
       "3                True  \n",
       "4                True  "
      ]
     },
     "execution_count": 5,
     "metadata": {},
     "output_type": "execute_result"
    }
   ],
   "source": [
    "shootings.rename(columns={'id':'criminal_id'},inplace=True)\n",
    "shootings=shootings.astype({'criminal_id':str})\n",
    "shootings.head()"
   ]
  },
  {
   "cell_type": "markdown",
   "id": "bbceb826",
   "metadata": {},
   "source": [
    "### Data clean-up & Imputation\n",
    "\n",
    "###### Eliminating the null values of age and replacing (or) imputing them by median age as it's the central tendency that's least affected by outliers"
   ]
  },
  {
   "cell_type": "code",
   "execution_count": 6,
   "id": "3a244f73",
   "metadata": {},
   "outputs": [
    {
     "name": "stdout",
     "output_type": "stream",
     "text": [
      "There are 361 null values and there are 6592 not null age value.\n",
      "This is 0.147% null values\n"
     ]
    },
    {
     "data": {
      "text/html": [
       "<div>\n",
       "<style scoped>\n",
       "    .dataframe tbody tr th:only-of-type {\n",
       "        vertical-align: middle;\n",
       "    }\n",
       "\n",
       "    .dataframe tbody tr th {\n",
       "        vertical-align: top;\n",
       "    }\n",
       "\n",
       "    .dataframe thead th {\n",
       "        text-align: right;\n",
       "    }\n",
       "</style>\n",
       "<table border=\"1\" class=\"dataframe\">\n",
       "  <thead>\n",
       "    <tr style=\"text-align: right;\">\n",
       "      <th></th>\n",
       "      <th>criminal_id</th>\n",
       "      <th>name</th>\n",
       "      <th>date</th>\n",
       "      <th>manner_of_death</th>\n",
       "      <th>armed</th>\n",
       "      <th>age</th>\n",
       "      <th>gender</th>\n",
       "      <th>race</th>\n",
       "      <th>city</th>\n",
       "      <th>state</th>\n",
       "      <th>signs_of_mental_illness</th>\n",
       "      <th>threat_level</th>\n",
       "      <th>flee</th>\n",
       "      <th>body_camera</th>\n",
       "      <th>longitude</th>\n",
       "      <th>latitude</th>\n",
       "      <th>is_geocoding_exact</th>\n",
       "      <th>age_imputed</th>\n",
       "    </tr>\n",
       "  </thead>\n",
       "  <tbody>\n",
       "    <tr>\n",
       "      <th>127</th>\n",
       "      <td>584</td>\n",
       "      <td>Alejandro Salazar</td>\n",
       "      <td>2015-02-20</td>\n",
       "      <td>shot</td>\n",
       "      <td>gun</td>\n",
       "      <td>NaN</td>\n",
       "      <td>M</td>\n",
       "      <td>H</td>\n",
       "      <td>Houston</td>\n",
       "      <td>TX</td>\n",
       "      <td>False</td>\n",
       "      <td>attack</td>\n",
       "      <td>Car</td>\n",
       "      <td>False</td>\n",
       "      <td>-95.401</td>\n",
       "      <td>29.983</td>\n",
       "      <td>True</td>\n",
       "      <td>35.0</td>\n",
       "    </tr>\n",
       "    <tr>\n",
       "      <th>769</th>\n",
       "      <td>908</td>\n",
       "      <td>Jason Day</td>\n",
       "      <td>2015-10-12</td>\n",
       "      <td>shot</td>\n",
       "      <td>gun</td>\n",
       "      <td>NaN</td>\n",
       "      <td>M</td>\n",
       "      <td>B</td>\n",
       "      <td>Lawton</td>\n",
       "      <td>OK</td>\n",
       "      <td>False</td>\n",
       "      <td>attack</td>\n",
       "      <td>Not fleeing</td>\n",
       "      <td>False</td>\n",
       "      <td>-98.422</td>\n",
       "      <td>34.599</td>\n",
       "      <td>True</td>\n",
       "      <td>35.0</td>\n",
       "    </tr>\n",
       "    <tr>\n",
       "      <th>809</th>\n",
       "      <td>1283</td>\n",
       "      <td>John Tozzi</td>\n",
       "      <td>2015-10-24</td>\n",
       "      <td>shot</td>\n",
       "      <td>gun</td>\n",
       "      <td>NaN</td>\n",
       "      <td>M</td>\n",
       "      <td>NaN</td>\n",
       "      <td>New Paltz</td>\n",
       "      <td>NY</td>\n",
       "      <td>False</td>\n",
       "      <td>attack</td>\n",
       "      <td>Not fleeing</td>\n",
       "      <td>False</td>\n",
       "      <td>-74.080</td>\n",
       "      <td>41.747</td>\n",
       "      <td>True</td>\n",
       "      <td>35.0</td>\n",
       "    </tr>\n",
       "    <tr>\n",
       "      <th>819</th>\n",
       "      <td>964</td>\n",
       "      <td>Deaunte Lamar Bell</td>\n",
       "      <td>2015-10-29</td>\n",
       "      <td>shot</td>\n",
       "      <td>gun</td>\n",
       "      <td>NaN</td>\n",
       "      <td>M</td>\n",
       "      <td>B</td>\n",
       "      <td>Columbus</td>\n",
       "      <td>OH</td>\n",
       "      <td>False</td>\n",
       "      <td>other</td>\n",
       "      <td>Not fleeing</td>\n",
       "      <td>False</td>\n",
       "      <td>-82.863</td>\n",
       "      <td>39.922</td>\n",
       "      <td>True</td>\n",
       "      <td>35.0</td>\n",
       "    </tr>\n",
       "    <tr>\n",
       "      <th>932</th>\n",
       "      <td>1074</td>\n",
       "      <td>NaN</td>\n",
       "      <td>2015-12-10</td>\n",
       "      <td>shot</td>\n",
       "      <td>gun</td>\n",
       "      <td>NaN</td>\n",
       "      <td>M</td>\n",
       "      <td>NaN</td>\n",
       "      <td>Hemet</td>\n",
       "      <td>CA</td>\n",
       "      <td>False</td>\n",
       "      <td>attack</td>\n",
       "      <td>Not fleeing</td>\n",
       "      <td>False</td>\n",
       "      <td>-116.971</td>\n",
       "      <td>33.729</td>\n",
       "      <td>True</td>\n",
       "      <td>35.0</td>\n",
       "    </tr>\n",
       "  </tbody>\n",
       "</table>\n",
       "</div>"
      ],
      "text/plain": [
       "    criminal_id                name        date manner_of_death armed  age  \\\n",
       "127         584   Alejandro Salazar  2015-02-20            shot   gun  NaN   \n",
       "769         908           Jason Day  2015-10-12            shot   gun  NaN   \n",
       "809        1283          John Tozzi  2015-10-24            shot   gun  NaN   \n",
       "819         964  Deaunte Lamar Bell  2015-10-29            shot   gun  NaN   \n",
       "932        1074                 NaN  2015-12-10            shot   gun  NaN   \n",
       "\n",
       "    gender race       city state  signs_of_mental_illness threat_level  \\\n",
       "127      M    H    Houston    TX                    False       attack   \n",
       "769      M    B     Lawton    OK                    False       attack   \n",
       "809      M  NaN  New Paltz    NY                    False       attack   \n",
       "819      M    B   Columbus    OH                    False        other   \n",
       "932      M  NaN      Hemet    CA                    False       attack   \n",
       "\n",
       "            flee  body_camera  longitude  latitude  is_geocoding_exact  \\\n",
       "127          Car        False    -95.401    29.983                True   \n",
       "769  Not fleeing        False    -98.422    34.599                True   \n",
       "809  Not fleeing        False    -74.080    41.747                True   \n",
       "819  Not fleeing        False    -82.863    39.922                True   \n",
       "932  Not fleeing        False   -116.971    33.729                True   \n",
       "\n",
       "     age_imputed  \n",
       "127         35.0  \n",
       "769         35.0  \n",
       "809         35.0  \n",
       "819         35.0  \n",
       "932         35.0  "
      ]
     },
     "execution_count": 6,
     "metadata": {},
     "output_type": "execute_result"
    }
   ],
   "source": [
    "#Cleaning the only numerical field age and checking if all the null and NaN values are eliminated\n",
    "\n",
    "clean_age=[i for i in shootings.age if math.isnan(i)==False]\n",
    "\n",
    "if len(shootings.age)-len(clean_age)==(shootings.age.isnull().sum()):\n",
    "    print(f'There are {shootings.age.isnull().sum()} null values and there are {len(clean_age)} not null age value.'\n",
    "          f'\\nThis is {shootings.age.isnull().sum()*100/shootings.age.sum():.3f}% null values')\n",
    "\n",
    "#Updating null values of age with median of the non zero values in the age column \n",
    "shootings['age_imputed'] = np.where(shootings['age'].isnull(),stat.median(clean_age),shootings['age'])\n",
    "\n",
    "#Quality check: The null values of age is replaced by median age field \n",
    "shootings[shootings['age'].isnull()].head()"
   ]
  },
  {
   "cell_type": "markdown",
   "id": "bf76367b",
   "metadata": {},
   "source": [
    "###### Selecting some of the required columns"
   ]
  },
  {
   "cell_type": "markdown",
   "id": "cc4be706",
   "metadata": {},
   "source": [
    "The reason for eliminating a few columns is mentioned below:\n",
    "\n",
    "1) name: It's a character column and anyway the ID field uniquely identifies every criminal\n",
    "\n",
    "2) race: This seems unnecessary and I don't personally want to classify criminals based on race\n",
    "\n",
    "3) threat & flee: doesn't seem to have useful info as I had checked the unique records of this column\n",
    "\n",
    "4) body_camera: Not planning to have hypotheses and insights based on this field\n",
    "\n",
    "5) latitude & longitude: I will explore & plotting geospatial data in later sessions  "
   ]
  },
  {
   "cell_type": "code",
   "execution_count": 7,
   "id": "605fa12f",
   "metadata": {},
   "outputs": [],
   "source": [
    "#Selecting the required columns by using dataframe column subset\n",
    "shootings=shootings[['criminal_id','date','manner_of_death','armed','age_imputed','gender','city','state'\n",
    "                     ,'signs_of_mental_illness','body_camera']]"
   ]
  },
  {
   "cell_type": "code",
   "execution_count": 8,
   "id": "bf5807ee",
   "metadata": {},
   "outputs": [
    {
     "data": {
      "text/plain": [
       "\"Here, imputation (replacing the null values by central tendencies) is done because there's only\\n   0.147% of missing values in the ages field and imputing will not change the overall distribution\\n   The missing values can also be eliminated safely because of lesser datapoints\""
      ]
     },
     "execution_count": 8,
     "metadata": {},
     "output_type": "execute_result"
    }
   ],
   "source": [
    "#Takeaway\n",
    "'''Here, imputation (replacing the null values by central tendencies) is done because there's only\n",
    "   0.147% of missing values in the ages field and imputing will not change the overall distribution\n",
    "   The missing values can also be eliminated safely because of lesser datapoints'''"
   ]
  },
  {
   "cell_type": "markdown",
   "id": "f2dff918",
   "metadata": {},
   "source": [
    "###### Finding descriptive statistics by formula"
   ]
  },
  {
   "cell_type": "code",
   "execution_count": 9,
   "id": "153f806b",
   "metadata": {},
   "outputs": [
    {
     "data": {
      "text/html": [
       "<div>\n",
       "<style scoped>\n",
       "    .dataframe tbody tr th:only-of-type {\n",
       "        vertical-align: middle;\n",
       "    }\n",
       "\n",
       "    .dataframe tbody tr th {\n",
       "        vertical-align: top;\n",
       "    }\n",
       "\n",
       "    .dataframe thead th {\n",
       "        text-align: right;\n",
       "    }\n",
       "</style>\n",
       "<table border=\"1\" class=\"dataframe\">\n",
       "  <thead>\n",
       "    <tr style=\"text-align: right;\">\n",
       "      <th></th>\n",
       "      <th>age_imputed</th>\n",
       "    </tr>\n",
       "  </thead>\n",
       "  <tbody>\n",
       "    <tr>\n",
       "      <th>count</th>\n",
       "      <td>6953.000</td>\n",
       "    </tr>\n",
       "    <tr>\n",
       "      <th>mean</th>\n",
       "      <td>37.027</td>\n",
       "    </tr>\n",
       "    <tr>\n",
       "      <th>std</th>\n",
       "      <td>12.640</td>\n",
       "    </tr>\n",
       "    <tr>\n",
       "      <th>min</th>\n",
       "      <td>6.000</td>\n",
       "    </tr>\n",
       "    <tr>\n",
       "      <th>25%</th>\n",
       "      <td>28.000</td>\n",
       "    </tr>\n",
       "    <tr>\n",
       "      <th>50%</th>\n",
       "      <td>35.000</td>\n",
       "    </tr>\n",
       "    <tr>\n",
       "      <th>75%</th>\n",
       "      <td>45.000</td>\n",
       "    </tr>\n",
       "    <tr>\n",
       "      <th>max</th>\n",
       "      <td>92.000</td>\n",
       "    </tr>\n",
       "  </tbody>\n",
       "</table>\n",
       "</div>"
      ],
      "text/plain": [
       "       age_imputed\n",
       "count     6953.000\n",
       "mean        37.027\n",
       "std         12.640\n",
       "min          6.000\n",
       "25%         28.000\n",
       "50%         35.000\n",
       "75%         45.000\n",
       "max         92.000"
      ]
     },
     "execution_count": 9,
     "metadata": {},
     "output_type": "execute_result"
    }
   ],
   "source": [
    "#Using one function to get all the central tendencies and variability,\n",
    "#Furthermore, will try exploring and calculating them by methods \n",
    "shootings.describe()"
   ]
  },
  {
   "cell_type": "code",
   "execution_count": 10,
   "id": "e9650d2c",
   "metadata": {},
   "outputs": [
    {
     "data": {
      "text/plain": [
       "\"From a basic glance of the central tendencies and variability measures, the mean is greater than median.\\nSo, it's a right skewed distribution\""
      ]
     },
     "execution_count": 10,
     "metadata": {},
     "output_type": "execute_result"
    }
   ],
   "source": [
    "#Takeaway:\n",
    "'''From a basic glance of the central tendencies and variability measures, the mean is greater than median.\n",
    "So, it's a right skewed distribution'''"
   ]
  },
  {
   "cell_type": "markdown",
   "id": "4c4dece3",
   "metadata": {},
   "source": [
    "### Computing central tendencies"
   ]
  },
  {
   "cell_type": "markdown",
   "id": "805a59f3",
   "metadata": {},
   "source": [
    "###### Mean = Average of all datapoints"
   ]
  },
  {
   "cell_type": "code",
   "execution_count": 11,
   "id": "9b42fd4d",
   "metadata": {},
   "outputs": [
    {
     "name": "stdout",
     "output_type": "stream",
     "text": [
      "Computing mean:\n",
      "---------------------\n",
      "Mean on computing by formula is     37.027\n",
      "Mean using statistics package is    37.027\n",
      "Mean using numpy package is         37.027\n",
      "Mean using user defined function is 37.027\n"
     ]
    }
   ],
   "source": [
    "#Making the age field a list as printf doesn't allow []\n",
    "age_imputed_list=list(shootings['age_imputed'])\n",
    "\n",
    "#Finding mean of the age column formula (age is the only numerical field)\n",
    "def average_function(list):\n",
    "    return round(sum(list)/len(list),3)\n",
    "\n",
    "#Here, the results aren't stored in any variable to save memory space and efficiency\n",
    "print('Computing mean:\\n---------------------')\n",
    "print(f'Mean on computing by formula is     {round(sum(age_imputed_list)/len(age_imputed_list),3)}') #Computing using formula method\n",
    "print(f'Mean using statistics package is    {stat.mean(age_imputed_list):.3f}') #Computing using external package\n",
    "print(f'Mean using numpy package is         {np.mean(age_imputed_list):.3f}') #Computing using external package\n",
    "print(f'Mean using user defined function is {average_function(age_imputed_list)}') #Computing using ser defined function\n"
   ]
  },
  {
   "cell_type": "markdown",
   "id": "a51f5f9d",
   "metadata": {},
   "source": [
    "###### Median  = Middle value"
   ]
  },
  {
   "cell_type": "code",
   "execution_count": 12,
   "id": "b335cbfa",
   "metadata": {},
   "outputs": [
    {
     "name": "stdout",
     "output_type": "stream",
     "text": [
      "Computing median:\n",
      "-----------------\n",
      "The median of age using statistics package is:      35.0\n",
      "The median of age using numpy package is:           35.0\n",
      "Median age using user defined function is:          35.0\n"
     ]
    }
   ],
   "source": [
    "#Finding median of the age column formula (age is the only numerical field)\n",
    "def median_function(list):\n",
    "    list.sort()\n",
    "    if len(list)%2==0:\n",
    "        return (list[int(len(list)/2)]+list[int((len(list)/2)-1)])/2\n",
    "    if len(list)%2!=0:\n",
    "        return list[int(len(list)/2)]\n",
    "\n",
    "#Here, the results aren't stored in any variable to save memory space and efficiency\n",
    "print('Computing median:\\n-----------------')\n",
    "print(f'The median of age using statistics package is:{stat.median(age_imputed_list):10}')\n",
    "print(f'The median of age using numpy package is:{np.median(age_imputed_list):15}')\n",
    "print(f'Median age using user defined function is: {median_function(age_imputed_list):13}')"
   ]
  },
  {
   "cell_type": "markdown",
   "id": "ef9f754b",
   "metadata": {},
   "source": [
    "###### Mode = Datapoint containing the maximum frequency value"
   ]
  },
  {
   "cell_type": "code",
   "execution_count": 13,
   "id": "d8b97483",
   "metadata": {},
   "outputs": [
    {
     "name": "stdout",
     "output_type": "stream",
     "text": [
      "Computing mode:\n",
      "-----------------\n",
      "The mode of age using statistics package is:      35.0\n",
      "The mode using user defined function is:          35.0\n"
     ]
    }
   ],
   "source": [
    "#Finding mode of the age column formula (age is the only numerical field)\n",
    "def mode_function(list):\n",
    "    value,frequency=np.unique(np.array(list),return_counts=True)\n",
    "    value_freq=dict(zip(frequency,value))\n",
    "    max_freq_value=max(sorted(value_freq,reverse=True))\n",
    "    return value_freq[max_freq_value]\n",
    "\n",
    "\n",
    "print('Computing mode:\\n-----------------')\n",
    "print(f'The mode of age using statistics package is:{stat.mode(age_imputed_list):10}')\n",
    "print(f'The mode using user defined function is:          {mode_function(age_imputed_list)}')"
   ]
  },
  {
   "cell_type": "markdown",
   "id": "9ac8ad5a",
   "metadata": {},
   "source": [
    "### Computing variability measures"
   ]
  },
  {
   "cell_type": "markdown",
   "id": "4b5de1e0",
   "metadata": {},
   "source": [
    "###### range = Max(values) - Min(values)"
   ]
  },
  {
   "cell_type": "code",
   "execution_count": 14,
   "id": "e677ea11",
   "metadata": {},
   "outputs": [
    {
     "name": "stdout",
     "output_type": "stream",
     "text": [
      "Range computation\n",
      "-----------------\n",
      "The range of age using built-in function is:      86.0\n",
      "The range of age using numpy package is:          86.0\n"
     ]
    }
   ],
   "source": [
    "print('Range computation\\n-----------------')\n",
    "print(f'The range of age using built-in function is:{max(age_imputed_list)-min(age_imputed_list):10}')\n",
    "print(f'The range of age using numpy package is:{np.max(age_imputed_list)-np.min(age_imputed_list):14}')"
   ]
  },
  {
   "cell_type": "markdown",
   "id": "c198309f",
   "metadata": {},
   "source": [
    "###### Inter Quartile Range (IQR) = 3rd Quartile - 1st Quartile "
   ]
  },
  {
   "cell_type": "code",
   "execution_count": 15,
   "id": "dff6d097",
   "metadata": {},
   "outputs": [
    {
     "name": "stdout",
     "output_type": "stream",
     "text": [
      "IQR Computation\n",
      "---------------\n",
      "Computing using numpy package and percentile: 17.0\n",
      "Computing using scipy package:                17.0\n"
     ]
    }
   ],
   "source": [
    "print('IQR Computation\\n---------------')\n",
    "print(f'Computing using numpy package and percentile: {np.percentile(age_imputed_list,75)-np.percentile(age_imputed_list,25)}')\n",
    "print(f'Computing using scipy package:                {scipy.stats.iqr(age_imputed_list)}')"
   ]
  },
  {
   "cell_type": "markdown",
   "id": "38e58772",
   "metadata": {},
   "source": [
    "###### Variance = Sum of squares of all the deviation of datapoints from mean\n",
    "\n",
    "###### Standard Deviation = Square root of variance"
   ]
  },
  {
   "cell_type": "code",
   "execution_count": 16,
   "id": "2a27f724",
   "metadata": {},
   "outputs": [
    {
     "name": "stdout",
     "output_type": "stream",
     "text": [
      "Computing variance:\n",
      "-------------------\n",
      "Variance using statistics package is:    159.737\n",
      "Variance using user defined function is: 159.737\n",
      "\n",
      "\n",
      "Computing standard deviation:\n",
      "-------------------\n",
      "Standard deviation using statistics package is:    12.639\n",
      "Standard deviation using user defined function is: 12.639\n"
     ]
    }
   ],
   "source": [
    "def std_dev_function(list):\n",
    "    mean=sum(list)/len(list)\n",
    "    deviation_list=[(var-mean)**2 for var in list]\n",
    "    variance=sum(deviation_list)/len(list)\n",
    "    std_dev=variance**(1/2)\n",
    "    return variance,std_dev\n",
    "\n",
    "\n",
    "print('Computing variance:\\n-------------------')\n",
    "print(f'Variance using statistics package is:    {stat.pvariance(age_imputed_list):.3f}')\n",
    "print(f'Variance using user defined function is: {std_dev_function(age_imputed_list)[0]:.3f}')\n",
    "\n",
    "print('\\n')\n",
    "print('Computing standard deviation:\\n-------------------')\n",
    "print(f'Standard deviation using statistics package is:    {stat.pstdev(age_imputed_list):.3f}')\n",
    "print(f'Standard deviation using user defined function is: {std_dev_function(age_imputed_list)[1]:.3f}')\n"
   ]
  },
  {
   "cell_type": "markdown",
   "id": "b445d576",
   "metadata": {},
   "source": [
    "### Hypothesis testing & Descriptive Analysis"
   ]
  },
  {
   "cell_type": "markdown",
   "id": "bc225b50",
   "metadata": {},
   "source": [
    "#### A Structured analysis could be done by framing hypothesis & questions surrounding the data so that later on the assumptions can be proven or misproven\n",
    "\n",
    "Hypotheses (or) questions planning to test out with data in this assignment:\n",
    "\n",
    "    1) --Most criminals might be mid age\n",
    "       --Check distribution by gender to check for any insights\n",
    "\n",
    "    2) California might have the highest killings as per statistics\n",
    "    \n",
    "    3) People showing signs of mental illness might be tasered prior to death\n",
    "    \n",
    "    \n",
    "Other questions for next phase:\n",
    "\n",
    "    1) Is there any relationship months of the year when more killings have happened?\n",
    "    \n",
    "    2) Which city had the most number of fatal police shot?\n",
    "    \n",
    "    3) Armed criminals are usually directly shot\n",
    "\n"
   ]
  },
  {
   "cell_type": "markdown",
   "id": "9136dc6e",
   "metadata": {},
   "source": [
    "### Hypothesis 1: Most criminals might be young"
   ]
  },
  {
   "cell_type": "code",
   "execution_count": 17,
   "id": "125f54b6",
   "metadata": {},
   "outputs": [
    {
     "data": {
      "text/plain": [
       "'Takeaway: Most criminals seem to lie in the age group of 30-40, \\nThere are some criminals below 20 as well'"
      ]
     },
     "execution_count": 17,
     "metadata": {},
     "output_type": "execute_result"
    },
    {
     "data": {
      "image/png": "[encoded data removed]",
      "text/plain": [
       "<Figure size 432x288 with 1 Axes>"
      ]
     },
     "metadata": {
      "needs_background": "light"
     },
     "output_type": "display_data"
    }
   ],
   "source": [
    "shootings.hist('age_imputed',bins=20)\n",
    "'''Takeaway: Most criminals seem to lie in the age group of 30-40, \n",
    "There are some criminals below 20 as well'''"
   ]
  },
  {
   "cell_type": "code",
   "execution_count": 18,
   "id": "dbd6d538",
   "metadata": {},
   "outputs": [
    {
     "data": {
      "text/plain": [
       "Text(0.5, 1.0, 'Box plot of age distribution by Gender')"
      ]
     },
     "execution_count": 18,
     "metadata": {},
     "output_type": "execute_result"
    },
    {
     "data": {
      "image/png": "[encoded data removed]",
      "text/plain": [
       "<Figure size 720x360 with 1 Axes>"
      ]
     },
     "metadata": {
      "needs_background": "light"
     },
     "output_type": "display_data"
    }
   ],
   "source": [
    "#Calculating mean age by gender\n",
    "fig, ax = plt.subplots(1,1, figsize=(10, 5))\n",
    "a=sns.boxplot(x = 'age_imputed', y = 'gender', data = shootings, ax = ax)\n",
    "sns.despine()\n",
    "a.set_title('Box plot of age distribution by Gender')"
   ]
  },
  {
   "cell_type": "code",
   "execution_count": 19,
   "id": "3bfc2ae4",
   "metadata": {},
   "outputs": [
    {
     "data": {
      "text/plain": [
       "'1) Most of the population above 70 years seem to be male\\n   2) With respect to age, male as well as female seem to show a similar behavior\\n   Next steps:\\n   Check the distribution of male vs female to validate the understanding'"
      ]
     },
     "execution_count": 19,
     "metadata": {},
     "output_type": "execute_result"
    }
   ],
   "source": [
    "#takeaway:\n",
    "'''1) Most of the population above 70 years seem to be male\n",
    "   2) With respect to age, male as well as female seem to show a similar behavior\n",
    "   Next steps:\n",
    "   Check the distribution of male vs female to validate the understanding'''"
   ]
  },
  {
   "cell_type": "code",
   "execution_count": 20,
   "id": "da8b3c6f",
   "metadata": {},
   "outputs": [
    {
     "data": {
      "text/plain": [
       "'Takeaway: There seems to be very minimal female'"
      ]
     },
     "execution_count": 20,
     "metadata": {},
     "output_type": "execute_result"
    },
    {
     "data": {
      "image/png": "[encoded data removed]",
      "text/plain": [
       "<Figure size 360x360 with 1 Axes>"
      ]
     },
     "metadata": {
      "needs_background": "light"
     },
     "output_type": "display_data"
    }
   ],
   "source": [
    "\n",
    "sns.displot(shootings,x='gender',)\n",
    "'''Takeaway: There seems to be very minimal female'''"
   ]
  },
  {
   "cell_type": "code",
   "execution_count": 21,
   "id": "9a50dd32",
   "metadata": {},
   "outputs": [
    {
     "name": "stdout",
     "output_type": "stream",
     "text": [
      "The count of (male,female):\t (6627, 326)\n",
      "Percentage of Male:   95.31%\n",
      "Percentage of Female:  4.69%\n"
     ]
    }
   ],
   "source": [
    "#Getting the count & percentage of male and female\n",
    "def count_field(a,b,parameter):\n",
    "    count_a=0\n",
    "    count_b=0\n",
    "    for i in shootings[parameter]:\n",
    "        if i==a:\n",
    "            count_a+=1\n",
    "        else:\n",
    "            count_b+=1\n",
    "    return (count_a,count_b)\n",
    "\n",
    "print('The count of (male,female):\\t',count_field('M','F','gender'))\n",
    "female_percent=count_field('M','F','gender')[1]*100/(count_field('M','F','gender')[0]+count_field('M','F','gender')[1])\n",
    "male_percent=count_field('M','F','gender')[0]*100/(count_field('M','F','gender')[0]+count_field('M','F','gender')[1])\n",
    "print(f'Percentage of Male:   {round(male_percent,2)}%\\nPercentage of Female:  {round(female_percent,2)}%')"
   ]
  },
  {
   "cell_type": "markdown",
   "id": "389a3905",
   "metadata": {},
   "source": [
    "### Hypothesis 3: California has the highest number of kills as per the statistics"
   ]
  },
  {
   "cell_type": "code",
   "execution_count": 22,
   "id": "51c74ab0",
   "metadata": {},
   "outputs": [
    {
     "name": "stdout",
     "output_type": "stream",
     "text": [
      "    state\n",
      "CA   1020\n",
      "TX    612\n",
      "FL    447\n",
      "AZ    313\n",
      "GA    256\n",
      "... ...\n",
      "    state\n",
      "WY     16\n",
      "DE     16\n",
      "ND     15\n",
      "VT     11\n",
      "RI      5\n"
     ]
    }
   ],
   "source": [
    "a=shootings['state'].value_counts()\n",
    "print(a.to_frame().head())\n",
    "print(\"... ...\")\n",
    "print(a.to_frame().tail())"
   ]
  },
  {
   "cell_type": "code",
   "execution_count": 23,
   "id": "6530ae5a",
   "metadata": {},
   "outputs": [
    {
     "data": {
      "text/plain": [
       "'1) California and Texas seem to be the places with top fatal police killings\\n   2) Vermount and Rhode Island seem to be the places with the least fatal police killings\\n   3) These results of top killings seem to be in line with the state population\\n      URL: https://worldpopulationreview.com/states\\n      \\n      Population of California in 2022: ~ 39M\\n      Population of Texas in 2022:      ~ 30M\\n'"
      ]
     },
     "execution_count": 23,
     "metadata": {},
     "output_type": "execute_result"
    }
   ],
   "source": [
    "#Takeaway: Hypothesis is validated\n",
    "'''1) California and Texas seem to be the places with top fatal police killings\n",
    "   2) Vermount and Rhode Island seem to be the places with the least fatal police killings\n",
    "   3) These results of top killings seem to be in line with the state population\n",
    "      URL: https://worldpopulationreview.com/states\n",
    "      \n",
    "      Population of California in 2022: ~ 39M\n",
    "      Population of Texas in 2022:      ~ 30M\n",
    "'''"
   ]
  },
  {
   "cell_type": "markdown",
   "id": "3cbb694b",
   "metadata": {},
   "source": [
    "### Hypothesis 3: People showing signs of mental illness might be tasered and shot"
   ]
  },
  {
   "cell_type": "code",
   "execution_count": 24,
   "id": "505e0b72",
   "metadata": {},
   "outputs": [
    {
     "data": {
      "text/plain": [
       "array([ True, False])"
      ]
     },
     "execution_count": 24,
     "metadata": {},
     "output_type": "execute_result"
    }
   ],
   "source": [
    "#Checks: Checking the unique values in the mental illness field\n",
    "shootings.signs_of_mental_illness.unique()"
   ]
  },
  {
   "cell_type": "code",
   "execution_count": 25,
   "id": "d1e21399",
   "metadata": {},
   "outputs": [
    {
     "name": "stdout",
     "output_type": "stream",
     "text": [
      "22.16% of criminals show signs of mental illness!\n"
     ]
    },
    {
     "data": {
      "image/png": "[encoded data removed]",
      "text/plain": [
       "<Figure size 360x360 with 1 Axes>"
      ]
     },
     "metadata": {},
     "output_type": "display_data"
    }
   ],
   "source": [
    "#plot histogram to get an understanding of people with mental illness\n",
    "data=[count_field(True,False,'signs_of_mental_illness')[0],count_field(True,False,'signs_of_mental_illness')[1]]\n",
    "label=['mentally disabled','not mentally disabled']\n",
    "fig, ax = plt.subplots(figsize =(5, 5))\n",
    "\n",
    "#To set percentage values and datalabels\n",
    "def func(pct, allvalues):\n",
    "    absolute = int(pct / 100.*np.sum(allvalues))\n",
    "    return \"{:.1f}%\\n({:d})\".format(pct, absolute)\n",
    "plt.pie(data,labels=label,explode=(0.1,0.1),autopct = lambda pct: func(pct, data))\n",
    "ax.set_title('Strength of mentally ill criminals')\n",
    "\n",
    "Mentally_ill=count_field(True,False,'signs_of_mental_illness')[0]\n",
    "Not_Mentally_ill=count_field(True,False,'signs_of_mental_illness')[1]\n",
    "print(f'{Mentally_ill*100/(Mentally_ill+Not_Mentally_ill):.2f}% of criminals show signs of mental illness!')"
   ]
  },
  {
   "cell_type": "code",
   "execution_count": 26,
   "id": "f7825a9c",
   "metadata": {},
   "outputs": [
    {
     "data": {
      "text/plain": [
       "' Majority of the criminal population do not show any signs of mental illness'"
      ]
     },
     "execution_count": 26,
     "metadata": {},
     "output_type": "execute_result"
    }
   ],
   "source": [
    "#Takeaway:\n",
    "''' Majority of the criminal population do not show any signs of mental illness'''"
   ]
  },
  {
   "cell_type": "code",
   "execution_count": 27,
   "id": "c76005f2",
   "metadata": {},
   "outputs": [
    {
     "data": {
      "text/plain": [
       "' Find the percentage of tasered and shot people with repect to overall people who are shot \\nand compare with distribution of signs of mental illness - bivariate analysis'"
      ]
     },
     "execution_count": 27,
     "metadata": {},
     "output_type": "execute_result"
    }
   ],
   "source": [
    "#Further analysis required - bivariate:\n",
    "''' Find the percentage of tasered and shot people with repect to overall people who are shot \n",
    "and compare with distribution of signs of mental illness - bivariate analysis''' "
   ]
  },
  {
   "cell_type": "markdown",
   "id": "a7f5ca9a",
   "metadata": {},
   "source": [
    "##### Next steps:\n",
    "'Test the further questions and hypotheses'\n",
    "\n",
    "Other questions for next phase:\n",
    "\n",
    "    1) Is there any relationship months of the year when more killings have happened?\n",
    "    \n",
    "    2) Which city had the most number of fatal police shot?\n",
    "    \n",
    "    3) Are armed criminals directly shot?\n"
   ]
  },
  {
   "cell_type": "markdown",
   "id": "8b769aa8",
   "metadata": {},
   "source": [
    "#### Important Take-away:\n",
    "#### Decisions that could be taken from a holistic analysis with the mentioned next steps:\n",
    "\n",
    "Since, the entire analysis dwells on descriptive analytics and not prescriptive, we can't for sure suggest something from these results.\n",
    "\n",
    "However, we can get a fair idea on various data oriented profiling of criminals (age,gender,mental state,etc.) and thereby\n",
    "make this a base for further predictive analytics"
   ]
  },
  {
   "cell_type": "markdown",
   "id": "7f947be4",
   "metadata": {},
   "source": [
    "### Thank you!"
   ]
  }
 ],
 "metadata": {
  "kernelspec": {
   "display_name": "Python 3 (ipykernel)",
   "language": "python",
   "name": "python3"
  },
  "language_info": {
   "codemirror_mode": {
    "name": "ipython",
    "version": 3
   },
   "file_extension": ".py",
   "mimetype": "text/x-python",
   "name": "python",
   "nbconvert_exporter": "python",
   "pygments_lexer": "ipython3",
   "version": "3.9.7"
  }
 },
 "nbformat": 4,
 "nbformat_minor": 5
}
